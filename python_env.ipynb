{
  "nbformat": 4,
  "nbformat_minor": 0,
  "metadata": {
    "colab": {
      "name": "python_env",
      "provenance": [],
      "collapsed_sections": [],
      "toc_visible": true,
      "include_colab_link": true
    },
    "kernelspec": {
      "display_name": "Python 3",
      "name": "python3"
    },
    "accelerator": "GPU"
  },
  "cells": [
    {
      "cell_type": "markdown",
      "metadata": {
        "id": "view-in-github",
        "colab_type": "text"
      },
      "source": [
        "<a href=\"https://colab.research.google.com/github/uu07/awesome-google-colab/blob/master/python_env.ipynb\" target=\"_parent\"><img src=\"https://colab.research.google.com/assets/colab-badge.svg\" alt=\"Open In Colab\"/></a>"
      ]
    },
    {
      "cell_type": "markdown",
      "metadata": {
        "colab_type": "text",
        "id": "GJBs_flRovLc"
      },
      "source": [
        "## <strong>python环境运行</strong>\n",
        "\n",
        "使用colab环境执行google driver的python\n"
      ]
    },
    {
      "cell_type": "markdown",
      "metadata": {
        "id": "A49k5Dc4nXXA",
        "colab_type": "text"
      },
      "source": [
        "# 新段落"
      ]
    },
    {
      "cell_type": "code",
      "metadata": {
        "colab_type": "code",
        "id": "gJr_9dXGpJ05",
        "outputId": "eaf7d4d2-7c12-479d-841f-455592bcb5c7",
        "colab": {
          "base_uri": "https://localhost:8080/",
          "height": 134
        }
      },
      "source": [
        "!apt-get install -y -qq software-properties-common python-software-properties module-init-tools\n",
        "!add-apt-repository -y ppa:alessandro-strada/ppa 2>&1 > /dev/null\n",
        "!apt-get update -qq 2>&1 > /dev/null\n",
        "!apt-get -y install -qq google-drive-ocamlfuse fuse"
      ],
      "execution_count": 0,
      "outputs": [
        {
          "output_type": "stream",
          "text": [
            "E: Package 'python-software-properties' has no installation candidate\n",
            "Selecting previously unselected package google-drive-ocamlfuse.\n",
            "(Reading database ... 144568 files and directories currently installed.)\n",
            "Preparing to unpack .../google-drive-ocamlfuse_0.7.21-0ubuntu1~ubuntu18.04.1_amd64.deb ...\n",
            "Unpacking google-drive-ocamlfuse (0.7.21-0ubuntu1~ubuntu18.04.1) ...\n",
            "Setting up google-drive-ocamlfuse (0.7.21-0ubuntu1~ubuntu18.04.1) ...\n",
            "Processing triggers for man-db (2.8.3-2ubuntu0.1) ...\n"
          ],
          "name": "stdout"
        }
      ]
    },
    {
      "cell_type": "code",
      "metadata": {
        "id": "hWslLRL7guWg",
        "colab_type": "code",
        "outputId": "58232b6b-2649-498f-b7ec-bb4f40342672",
        "colab": {
          "base_uri": "https://localhost:8080/",
          "height": 104
        }
      },
      "source": [
        "from google.colab import auth\n",
        "auth.authenticate_user()\n",
        "from oauth2client.client import GoogleCredentials\n",
        "creds = GoogleCredentials.get_application_default()\n",
        "import getpass\n",
        "!google-drive-ocamlfuse -headless -id={creds.client_id} -secret={creds.client_secret} < /dev/null 2>&1 | grep URL\n",
        "vcode = getpass.getpass()\n",
        "!echo {vcode} | google-drive-ocamlfuse -headless -id={creds.client_id} -secret={creds.client_secret}"
      ],
      "execution_count": 0,
      "outputs": [
        {
          "output_type": "stream",
          "text": [
            "Please, open the following URL in a web browser: https://accounts.google.com/o/oauth2/auth?client_id=32555940559.apps.googleusercontent.com&redirect_uri=urn%3Aietf%3Awg%3Aoauth%3A2.0%3Aoob&scope=https%3A%2F%2Fwww.googleapis.com%2Fauth%2Fdrive&response_type=code&access_type=offline&approval_prompt=force\n",
            "··········\n",
            "Please, open the following URL in a web browser: https://accounts.google.com/o/oauth2/auth?client_id=32555940559.apps.googleusercontent.com&redirect_uri=urn%3Aietf%3Awg%3Aoauth%3A2.0%3Aoob&scope=https%3A%2F%2Fwww.googleapis.com%2Fauth%2Fdrive&response_type=code&access_type=offline&approval_prompt=force\n",
            "Please enter the verification code: Access token retrieved correctly.\n"
          ],
          "name": "stdout"
        }
      ]
    },
    {
      "cell_type": "code",
      "metadata": {
        "id": "gX7_H3oahjCu",
        "colab_type": "code",
        "colab": {}
      },
      "source": [
        "!mkdir -p drive\n",
        "!google-drive-ocamlfuse drive"
      ],
      "execution_count": 0,
      "outputs": []
    },
    {
      "cell_type": "code",
      "metadata": {
        "id": "zc4BB9FWhucO",
        "colab_type": "code",
        "outputId": "e4e291a8-6849-497a-85c0-1b23377dfb65",
        "colab": {
          "base_uri": "https://localhost:8080/",
          "height": 34
        }
      },
      "source": [
        "!python3 drive/app/hello.py"
      ],
      "execution_count": 0,
      "outputs": [
        {
          "output_type": "stream",
          "text": [
            "hello world\n"
          ],
          "name": "stdout"
        }
      ]
    },
    {
      "cell_type": "code",
      "metadata": {
        "id": "Al_AFQqg7XJt",
        "colab_type": "code",
        "outputId": "94407ae7-4e11-4b36-901e-e625a711a5d9",
        "colab": {
          "base_uri": "https://localhost:8080/",
          "height": 54
        }
      },
      "source": [
        "from google.colab import drive\n",
        "drive.mount('/content/drive')"
      ],
      "execution_count": 0,
      "outputs": [
        {
          "output_type": "stream",
          "text": [
            "Drive already mounted at /content/drive; to attempt to forcibly remount, call drive.mount(\"/content/drive\", force_remount=True).\n"
          ],
          "name": "stdout"
        }
      ]
    },
    {
      "cell_type": "code",
      "metadata": {
        "id": "hFLNmI4Nm7lb",
        "colab_type": "code",
        "colab": {}
      },
      "source": [
        "import os\n",
        "import sys\n",
        "os.chdir(\"/content/drive/My Drive/nnom/examples/mnist-simple\")\n",
        "sys.path.append('/content/drive/My Drive/nnom/examples/mnist-simple')\n"
      ],
      "execution_count": 0,
      "outputs": []
    },
    {
      "cell_type": "code",
      "metadata": {
        "id": "F36XJnHermAm",
        "colab_type": "code",
        "outputId": "f5467a17-9377-4857-ea81-d3f17010c632",
        "colab": {
          "base_uri": "https://localhost:8080/",
          "height": 101
        }
      },
      "source": [
        "%tensorflow_version 1.5\n",
        "import tensorflow\n",
        "# print(tensorflow.__version__))"
      ],
      "execution_count": 0,
      "outputs": [
        {
          "output_type": "stream",
          "text": [
            "`%tensorflow_version` only switches the major version: 1.x or 2.x.\n",
            "You set: `1.5`. This will be interpreted as: `1.x`.\n",
            "\n",
            "\n",
            "TensorFlow 1.x selected.\n"
          ],
          "name": "stdout"
        }
      ]
    },
    {
      "cell_type": "code",
      "metadata": {
        "id": "GPvqZSnQYufN",
        "colab_type": "code",
        "outputId": "4144d9d1-98e0-4e0c-d832-2cfb6e185fd1",
        "colab": {
          "base_uri": "https://localhost:8080/",
          "height": 1000
        }
      },
      "source": [
        "!python3 model/mnist_simple.py"
      ],
      "execution_count": 0,
      "outputs": [
        {
          "output_type": "stream",
          "text": [
            "Using TensorFlow backend.\n",
            "60000 train samples\n",
            "10000 test samples\n",
            "x_train shape: (60000, 28, 28, 1)\n",
            "data range 0.0 1.0\n",
            "WARNING:tensorflow:From /tensorflow-1.15.2/python3.6/tensorflow_core/python/ops/resource_variable_ops.py:1630: calling BaseResourceVariable.__init__ (from tensorflow.python.ops.resource_variable_ops) with constraint is deprecated and will be removed in a future version.\n",
            "Instructions for updating:\n",
            "If using Keras pass *_constraint arguments to layers.\n",
            "WARNING:tensorflow:From /usr/local/lib/python3.6/dist-packages/keras/backend/tensorflow_backend.py:4070: The name tf.nn.max_pool is deprecated. Please use tf.nn.max_pool2d instead.\n",
            "\n",
            "Model: \"model_1\"\n",
            "_________________________________________________________________\n",
            "Layer (type)                 Output Shape              Param #   \n",
            "=================================================================\n",
            "input_1 (InputLayer)         (None, 28, 28, 1)         0         \n",
            "_________________________________________________________________\n",
            "conv2d_1 (Conv2D)            (None, 28, 28, 12)        120       \n",
            "_________________________________________________________________\n",
            "re_lu_1 (ReLU)               (None, 28, 28, 12)        0         \n",
            "_________________________________________________________________\n",
            "max_pooling2d_1 (MaxPooling2 (None, 14, 14, 12)        0         \n",
            "_________________________________________________________________\n",
            "conv2d_2 (Conv2D)            (None, 14, 14, 24)        2616      \n",
            "_________________________________________________________________\n",
            "re_lu_2 (ReLU)               (None, 14, 14, 24)        0         \n",
            "_________________________________________________________________\n",
            "max_pooling2d_2 (MaxPooling2 (None, 7, 7, 24)          0         \n",
            "_________________________________________________________________\n",
            "conv2d_3 (Conv2D)            (None, 7, 7, 48)          10416     \n",
            "_________________________________________________________________\n",
            "re_lu_3 (ReLU)               (None, 7, 7, 48)          0         \n",
            "_________________________________________________________________\n",
            "dropout_1 (Dropout)          (None, 7, 7, 48)          0         \n",
            "_________________________________________________________________\n",
            "max_pooling2d_3 (MaxPooling2 (None, 4, 4, 48)          0         \n",
            "_________________________________________________________________\n",
            "flatten_1 (Flatten)          (None, 768)               0         \n",
            "_________________________________________________________________\n",
            "dense_1 (Dense)              (None, 96)                73824     \n",
            "_________________________________________________________________\n",
            "dropout_2 (Dropout)          (None, 96)                0         \n",
            "_________________________________________________________________\n",
            "re_lu_4 (ReLU)               (None, 96)                0         \n",
            "_________________________________________________________________\n",
            "dense_2 (Dense)              (None, 10)                970       \n",
            "_________________________________________________________________\n",
            "softmax_1 (Softmax)          (None, 10)                0         \n",
            "=================================================================\n",
            "Total params: 87,946\n",
            "Trainable params: 87,946\n",
            "Non-trainable params: 0\n",
            "_________________________________________________________________\n",
            "2020-05-03 13:48:02.860022: I tensorflow/stream_executor/platform/default/dso_loader.cc:44] Successfully opened dynamic library libcuda.so.1\n",
            "2020-05-03 13:48:02.893211: I tensorflow/stream_executor/cuda/cuda_gpu_executor.cc:983] successful NUMA node read from SysFS had negative value (-1), but there must be at least one NUMA node, so returning NUMA node zero\n",
            "2020-05-03 13:48:02.893799: I tensorflow/core/common_runtime/gpu/gpu_device.cc:1639] Found device 0 with properties: \n",
            "name: Tesla T4 major: 7 minor: 5 memoryClockRate(GHz): 1.59\n",
            "pciBusID: 0000:00:04.0\n",
            "2020-05-03 13:48:02.894128: I tensorflow/stream_executor/platform/default/dso_loader.cc:44] Successfully opened dynamic library libcudart.so.10.1\n",
            "2020-05-03 13:48:02.895555: I tensorflow/stream_executor/platform/default/dso_loader.cc:44] Successfully opened dynamic library libcublas.so.10\n",
            "2020-05-03 13:48:02.897019: I tensorflow/stream_executor/platform/default/dso_loader.cc:44] Successfully opened dynamic library libcufft.so.10\n",
            "2020-05-03 13:48:02.897371: I tensorflow/stream_executor/platform/default/dso_loader.cc:44] Successfully opened dynamic library libcurand.so.10\n",
            "2020-05-03 13:48:02.898787: I tensorflow/stream_executor/platform/default/dso_loader.cc:44] Successfully opened dynamic library libcusolver.so.10\n",
            "2020-05-03 13:48:02.899447: I tensorflow/stream_executor/platform/default/dso_loader.cc:44] Successfully opened dynamic library libcusparse.so.10\n",
            "2020-05-03 13:48:02.902242: I tensorflow/stream_executor/platform/default/dso_loader.cc:44] Successfully opened dynamic library libcudnn.so.7\n",
            "2020-05-03 13:48:02.902352: I tensorflow/stream_executor/cuda/cuda_gpu_executor.cc:983] successful NUMA node read from SysFS had negative value (-1), but there must be at least one NUMA node, so returning NUMA node zero\n",
            "2020-05-03 13:48:02.902934: I tensorflow/stream_executor/cuda/cuda_gpu_executor.cc:983] successful NUMA node read from SysFS had negative value (-1), but there must be at least one NUMA node, so returning NUMA node zero\n",
            "2020-05-03 13:48:02.903502: I tensorflow/core/common_runtime/gpu/gpu_device.cc:1767] Adding visible gpu devices: 0\n",
            "2020-05-03 13:48:02.903818: I tensorflow/core/platform/cpu_feature_guard.cc:142] Your CPU supports instructions that this TensorFlow binary was not compiled to use: AVX512F\n",
            "2020-05-03 13:48:02.908157: I tensorflow/core/platform/profile_utils/cpu_utils.cc:94] CPU Frequency: 2000110000 Hz\n",
            "2020-05-03 13:48:02.908349: I tensorflow/compiler/xla/service/service.cc:168] XLA service 0x2060a00 initialized for platform Host (this does not guarantee that XLA will be used). Devices:\n",
            "2020-05-03 13:48:02.908374: I tensorflow/compiler/xla/service/service.cc:176]   StreamExecutor device (0): Host, Default Version\n",
            "2020-05-03 13:48:02.998519: I tensorflow/stream_executor/cuda/cuda_gpu_executor.cc:983] successful NUMA node read from SysFS had negative value (-1), but there must be at least one NUMA node, so returning NUMA node zero\n",
            "2020-05-03 13:48:02.999284: I tensorflow/compiler/xla/service/service.cc:168] XLA service 0x2060bc0 initialized for platform CUDA (this does not guarantee that XLA will be used). Devices:\n",
            "2020-05-03 13:48:02.999318: I tensorflow/compiler/xla/service/service.cc:176]   StreamExecutor device (0): Tesla T4, Compute Capability 7.5\n",
            "2020-05-03 13:48:02.999520: I tensorflow/stream_executor/cuda/cuda_gpu_executor.cc:983] successful NUMA node read from SysFS had negative value (-1), but there must be at least one NUMA node, so returning NUMA node zero\n",
            "2020-05-03 13:48:03.000074: I tensorflow/core/common_runtime/gpu/gpu_device.cc:1639] Found device 0 with properties: \n",
            "name: Tesla T4 major: 7 minor: 5 memoryClockRate(GHz): 1.59\n",
            "pciBusID: 0000:00:04.0\n",
            "2020-05-03 13:48:03.000147: I tensorflow/stream_executor/platform/default/dso_loader.cc:44] Successfully opened dynamic library libcudart.so.10.1\n",
            "2020-05-03 13:48:03.000176: I tensorflow/stream_executor/platform/default/dso_loader.cc:44] Successfully opened dynamic library libcublas.so.10\n",
            "2020-05-03 13:48:03.000200: I tensorflow/stream_executor/platform/default/dso_loader.cc:44] Successfully opened dynamic library libcufft.so.10\n",
            "2020-05-03 13:48:03.000250: I tensorflow/stream_executor/platform/default/dso_loader.cc:44] Successfully opened dynamic library libcurand.so.10\n",
            "2020-05-03 13:48:03.000271: I tensorflow/stream_executor/platform/default/dso_loader.cc:44] Successfully opened dynamic library libcusolver.so.10\n",
            "2020-05-03 13:48:03.000291: I tensorflow/stream_executor/platform/default/dso_loader.cc:44] Successfully opened dynamic library libcusparse.so.10\n",
            "2020-05-03 13:48:03.000311: I tensorflow/stream_executor/platform/default/dso_loader.cc:44] Successfully opened dynamic library libcudnn.so.7\n",
            "2020-05-03 13:48:03.000398: I tensorflow/stream_executor/cuda/cuda_gpu_executor.cc:983] successful NUMA node read from SysFS had negative value (-1), but there must be at least one NUMA node, so returning NUMA node zero\n",
            "2020-05-03 13:48:03.001062: I tensorflow/stream_executor/cuda/cuda_gpu_executor.cc:983] successful NUMA node read from SysFS had negative value (-1), but there must be at least one NUMA node, so returning NUMA node zero\n",
            "2020-05-03 13:48:03.001557: I tensorflow/core/common_runtime/gpu/gpu_device.cc:1767] Adding visible gpu devices: 0\n",
            "2020-05-03 13:48:03.001617: I tensorflow/stream_executor/platform/default/dso_loader.cc:44] Successfully opened dynamic library libcudart.so.10.1\n",
            "2020-05-03 13:48:03.002722: I tensorflow/core/common_runtime/gpu/gpu_device.cc:1180] Device interconnect StreamExecutor with strength 1 edge matrix:\n",
            "2020-05-03 13:48:03.002753: I tensorflow/core/common_runtime/gpu/gpu_device.cc:1186]      0 \n",
            "2020-05-03 13:48:03.002764: I tensorflow/core/common_runtime/gpu/gpu_device.cc:1199] 0:   N \n",
            "2020-05-03 13:48:03.002873: I tensorflow/stream_executor/cuda/cuda_gpu_executor.cc:983] successful NUMA node read from SysFS had negative value (-1), but there must be at least one NUMA node, so returning NUMA node zero\n",
            "2020-05-03 13:48:03.003514: I tensorflow/stream_executor/cuda/cuda_gpu_executor.cc:983] successful NUMA node read from SysFS had negative value (-1), but there must be at least one NUMA node, so returning NUMA node zero\n",
            "2020-05-03 13:48:03.004038: W tensorflow/core/common_runtime/gpu/gpu_bfc_allocator.cc:39] Overriding allow_growth setting because the TF_FORCE_GPU_ALLOW_GROWTH environment variable is set. Original config value was 0.\n",
            "2020-05-03 13:48:03.004079: I tensorflow/core/common_runtime/gpu/gpu_device.cc:1325] Created TensorFlow device (/job:localhost/replica:0/task:0/device:GPU:0 with 14221 MB memory) -> physical GPU (device: 0, name: Tesla T4, pci bus id: 0000:00:04.0, compute capability: 7.5)\n",
            "WARNING:tensorflow:From /usr/local/lib/python3.6/dist-packages/keras/backend/tensorflow_backend.py:422: The name tf.global_variables is deprecated. Please use tf.compat.v1.global_variables instead.\n",
            "\n",
            "Train on 60000 samples, validate on 10000 samples\n",
            "Epoch 1/2\n",
            "2020-05-03 13:48:03.796530: I tensorflow/stream_executor/platform/default/dso_loader.cc:44] Successfully opened dynamic library libcublas.so.10\n",
            "2020-05-03 13:48:04.131339: I tensorflow/stream_executor/platform/default/dso_loader.cc:44] Successfully opened dynamic library libcudnn.so.7\n",
            " - 7s - loss: 0.2350 - accuracy: 0.9236 - val_loss: 0.0539 - val_accuracy: 0.9826\n",
            "Epoch 2/2\n",
            " - 5s - loss: 0.0741 - accuracy: 0.9770 - val_loss: 0.0584 - val_accuracy: 0.9807\n",
            "2020-05-03 13:48:16.143827: I tensorflow/stream_executor/cuda/cuda_gpu_executor.cc:983] successful NUMA node read from SysFS had negative value (-1), but there must be at least one NUMA node, so returning NUMA node zero\n",
            "2020-05-03 13:48:16.144500: I tensorflow/core/common_runtime/gpu/gpu_device.cc:1639] Found device 0 with properties: \n",
            "name: Tesla T4 major: 7 minor: 5 memoryClockRate(GHz): 1.59\n",
            "pciBusID: 0000:00:04.0\n",
            "2020-05-03 13:48:16.144590: I tensorflow/stream_executor/platform/default/dso_loader.cc:44] Successfully opened dynamic library libcudart.so.10.1\n",
            "2020-05-03 13:48:16.144619: I tensorflow/stream_executor/platform/default/dso_loader.cc:44] Successfully opened dynamic library libcublas.so.10\n",
            "2020-05-03 13:48:16.144648: I tensorflow/stream_executor/platform/default/dso_loader.cc:44] Successfully opened dynamic library libcufft.so.10\n",
            "2020-05-03 13:48:16.144674: I tensorflow/stream_executor/platform/default/dso_loader.cc:44] Successfully opened dynamic library libcurand.so.10\n",
            "2020-05-03 13:48:16.144700: I tensorflow/stream_executor/platform/default/dso_loader.cc:44] Successfully opened dynamic library libcusolver.so.10\n",
            "2020-05-03 13:48:16.144727: I tensorflow/stream_executor/platform/default/dso_loader.cc:44] Successfully opened dynamic library libcusparse.so.10\n",
            "2020-05-03 13:48:16.144765: I tensorflow/stream_executor/platform/default/dso_loader.cc:44] Successfully opened dynamic library libcudnn.so.7\n",
            "2020-05-03 13:48:16.144857: I tensorflow/stream_executor/cuda/cuda_gpu_executor.cc:983] successful NUMA node read from SysFS had negative value (-1), but there must be at least one NUMA node, so returning NUMA node zero\n",
            "2020-05-03 13:48:16.145466: I tensorflow/stream_executor/cuda/cuda_gpu_executor.cc:983] successful NUMA node read from SysFS had negative value (-1), but there must be at least one NUMA node, so returning NUMA node zero\n",
            "2020-05-03 13:48:16.146023: I tensorflow/core/common_runtime/gpu/gpu_device.cc:1767] Adding visible gpu devices: 0\n",
            "2020-05-03 13:48:16.146075: I tensorflow/core/common_runtime/gpu/gpu_device.cc:1180] Device interconnect StreamExecutor with strength 1 edge matrix:\n",
            "2020-05-03 13:48:16.146093: I tensorflow/core/common_runtime/gpu/gpu_device.cc:1186]      0 \n",
            "2020-05-03 13:48:16.146108: I tensorflow/core/common_runtime/gpu/gpu_device.cc:1199] 0:   N \n",
            "2020-05-03 13:48:16.146220: I tensorflow/stream_executor/cuda/cuda_gpu_executor.cc:983] successful NUMA node read from SysFS had negative value (-1), but there must be at least one NUMA node, so returning NUMA node zero\n",
            "2020-05-03 13:48:16.146745: I tensorflow/stream_executor/cuda/cuda_gpu_executor.cc:983] successful NUMA node read from SysFS had negative value (-1), but there must be at least one NUMA node, so returning NUMA node zero\n",
            "2020-05-03 13:48:16.147246: I tensorflow/core/common_runtime/gpu/gpu_device.cc:1325] Created TensorFlow device (/job:localhost/replica:0/task:0/device:GPU:0 with 14221 MB memory) -> physical GPU (device: 0, name: Tesla T4, pci bus id: 0000:00:04.0, compute capability: 7.5)\n",
            "Test loss: 0.05385406834073365\n",
            "Top 1: 0.9825999736785889\n",
            "WARNING:tensorflow:From /content/drive/My Drive/nnom/scripts/nnom_utils.py:755: The name tf.Session is deprecated. Please use tf.compat.v1.Session instead.\n",
            "\n",
            "2020-05-03 13:48:17.841204: I tensorflow/stream_executor/cuda/cuda_gpu_executor.cc:983] successful NUMA node read from SysFS had negative value (-1), but there must be at least one NUMA node, so returning NUMA node zero\n",
            "2020-05-03 13:48:17.841757: I tensorflow/core/common_runtime/gpu/gpu_device.cc:1639] Found device 0 with properties: \n",
            "name: Tesla T4 major: 7 minor: 5 memoryClockRate(GHz): 1.59\n",
            "pciBusID: 0000:00:04.0\n",
            "2020-05-03 13:48:17.841826: I tensorflow/stream_executor/platform/default/dso_loader.cc:44] Successfully opened dynamic library libcudart.so.10.1\n",
            "2020-05-03 13:48:17.841849: I tensorflow/stream_executor/platform/default/dso_loader.cc:44] Successfully opened dynamic library libcublas.so.10\n",
            "2020-05-03 13:48:17.841870: I tensorflow/stream_executor/platform/default/dso_loader.cc:44] Successfully opened dynamic library libcufft.so.10\n",
            "2020-05-03 13:48:17.841893: I tensorflow/stream_executor/platform/default/dso_loader.cc:44] Successfully opened dynamic library libcurand.so.10\n",
            "2020-05-03 13:48:17.841914: I tensorflow/stream_executor/platform/default/dso_loader.cc:44] Successfully opened dynamic library libcusolver.so.10\n",
            "2020-05-03 13:48:17.841933: I tensorflow/stream_executor/platform/default/dso_loader.cc:44] Successfully opened dynamic library libcusparse.so.10\n",
            "2020-05-03 13:48:17.841953: I tensorflow/stream_executor/platform/default/dso_loader.cc:44] Successfully opened dynamic library libcudnn.so.7\n",
            "2020-05-03 13:48:17.842052: I tensorflow/stream_executor/cuda/cuda_gpu_executor.cc:983] successful NUMA node read from SysFS had negative value (-1), but there must be at least one NUMA node, so returning NUMA node zero\n",
            "2020-05-03 13:48:17.842575: I tensorflow/stream_executor/cuda/cuda_gpu_executor.cc:983] successful NUMA node read from SysFS had negative value (-1), but there must be at least one NUMA node, so returning NUMA node zero\n",
            "2020-05-03 13:48:17.843045: I tensorflow/core/common_runtime/gpu/gpu_device.cc:1767] Adding visible gpu devices: 0\n",
            "2020-05-03 13:48:17.843081: I tensorflow/core/common_runtime/gpu/gpu_device.cc:1180] Device interconnect StreamExecutor with strength 1 edge matrix:\n",
            "2020-05-03 13:48:17.843101: I tensorflow/core/common_runtime/gpu/gpu_device.cc:1186]      0 \n",
            "2020-05-03 13:48:17.843111: I tensorflow/core/common_runtime/gpu/gpu_device.cc:1199] 0:   N \n",
            "2020-05-03 13:48:17.843200: I tensorflow/stream_executor/cuda/cuda_gpu_executor.cc:983] successful NUMA node read from SysFS had negative value (-1), but there must be at least one NUMA node, so returning NUMA node zero\n",
            "2020-05-03 13:48:17.843747: I tensorflow/stream_executor/cuda/cuda_gpu_executor.cc:983] successful NUMA node read from SysFS had negative value (-1), but there must be at least one NUMA node, so returning NUMA node zero\n",
            "2020-05-03 13:48:17.844287: I tensorflow/core/common_runtime/gpu/gpu_device.cc:1325] Created TensorFlow device (/job:localhost/replica:0/task:0/device:GPU:0 with 14221 MB memory) -> physical GPU (device: 0, name: Tesla T4, pci bus id: 0000:00:04.0, compute capability: 7.5)\n",
            "Top 2: [1. 1. 1. ... 1. 1. 1.]\n",
            "[[ 975    0    1    0    0    0    2    1    1    0]\n",
            " [   0 1127    4    0    0    2    1    0    1    0]\n",
            " [   4    1 1017    1    0    0    0    4    5    0]\n",
            " [   1    0    1  985    0   10    0    6    7    0]\n",
            " [   0    0    3    0  971    0    4    1    1    2]\n",
            " [   1    0    1    2    0  876    2    1    6    3]\n",
            " [   8    2    0    0    2    5  940    0    1    0]\n",
            " [   0    2    6    2    0    0    0 1010    2    6]\n",
            " [   9    0    4    4    2    0    2    2  947    4]\n",
            " [   4    2    0    4    9    3    0    6    3  978]]\n",
            "conv2d_1/kernel:0 Dec num: 8\n",
            "conv2d_1/bias:0 Dec num: 11\n",
            "conv2d_2/kernel:0 Dec num: 8\n",
            "conv2d_2/bias:0 Dec num: 10\n",
            "conv2d_3/kernel:0 Dec num: 8\n",
            "conv2d_3/bias:0 Dec num: 10\n",
            "dense_1/kernel:0 Dec num: 9\n",
            "dense_1/bias:0 Dec num: 11\n",
            "dense_2/kernel:0 Dec num: 8\n",
            "dense_2/bias:0 Dec num: 11\n",
            "input_1 max value: 1.0 min value: 0.0 dec bit 7\n",
            "KLD loss [7.621781540483427, 0.9170930856658469, 1.3590983544284665, 2.412079618415172]\n",
            "KLD shift [5, 6, 7, 8]\n",
            "conv2d_1 is using KLD method, original shift 5 KLD results 6\n",
            "conv2d_1 max value: 2.1365626 min value: -1.1668414 dec bit 6\n",
            "KLD loss [7.621781540483427, 0.9170930856658469, 1.3590983544284665, 2.412079618415172]\n",
            "KLD shift [5, 6, 7, 8]\n",
            "re_lu_1 is using KLD method, original shift 5 KLD results 6\n",
            "re_lu_1 max value: 2.1365626 min value: -1.1668414 dec bit 6\n",
            "KLD loss [7.621781540483427, 0.9170930856658469, 1.3590983544284665, 2.412079618415172]\n",
            "KLD shift [5, 6, 7, 8]\n",
            "max_pooling2d_1 is using KLD method, original shift 5 KLD results 6\n",
            "max_pooling2d_1 max value: 2.1365626 min value: -1.1668414 dec bit 6\n",
            "KLD loss [8.736892846684352, 0.17509737572296988, 0.4139442966386282, 2.217240016163846]\n",
            "KLD shift [4, 5, 6, 7]\n",
            "conv2d_2 is using KLD method, original shift 4 KLD results 5\n",
            "conv2d_2 max value: 4.7493534 min value: -4.2185655 dec bit 5\n",
            "KLD loss [8.736892846684352, 0.17509737572296988, 0.4139442966386282, 2.217240016163846]\n",
            "KLD shift [4, 5, 6, 7]\n",
            "re_lu_2 is using KLD method, original shift 4 KLD results 5\n",
            "re_lu_2 max value: 4.7493534 min value: -4.2185655 dec bit 5\n",
            "KLD loss [8.736892846684352, 0.17509737572296988, 0.4139442966386282, 2.217240016163846]\n",
            "KLD shift [4, 5, 6, 7]\n",
            "max_pooling2d_2 is using KLD method, original shift 4 KLD results 5\n",
            "max_pooling2d_2 max value: 4.7493534 min value: -4.2185655 dec bit 5\n",
            "KLD loss [9.460400385146848, 0.031032501298070034, 0.11364737254557293, 1.7414578005053445]\n",
            "KLD shift [3, 4, 5, 6]\n",
            "conv2d_3 is using KLD method, original shift 3 KLD results 4\n",
            "conv2d_3 max value: 5.2889524 min value: -8.3696995 dec bit 4\n",
            "KLD loss [9.460400385146848, 0.031032501298070034, 0.11364737254557293, 1.7414578005053445]\n",
            "KLD shift [3, 4, 5, 6]\n",
            "re_lu_3 is using KLD method, original shift 3 KLD results 4\n",
            "re_lu_3 max value: 5.2889524 min value: -8.3696995 dec bit 4\n",
            "KLD loss [9.460400385146848, 0.031032501298070034, 0.11364737254557293, 1.7414578005053445]\n",
            "KLD shift [3, 4, 5, 6]\n",
            "dropout_1 is using KLD method, original shift 3 KLD results 4\n",
            "dropout_1 max value: 5.2889524 min value: -8.3696995 dec bit 4\n",
            "KLD loss [9.460400385146848, 0.031032501298070034, 0.11364737254557293, 1.7414578005053445]\n",
            "KLD shift [3, 4, 5, 6]\n",
            "max_pooling2d_3 is using KLD method, original shift 3 KLD results 4\n",
            "max_pooling2d_3 max value: 5.2889524 min value: -8.3696995 dec bit 4\n",
            "KLD loss [9.460400385146848, 0.031032501298070034, 0.11364737254557293, 1.7414578005053445]\n",
            "KLD shift [3, 4, 5, 6]\n",
            "flatten_1 is using KLD method, original shift 3 KLD results 4\n",
            "flatten_1 max value: 5.2889524 min value: -8.3696995 dec bit 4\n",
            "dense_1 max value: 8.428073 min value: -8.482128 dec bit 3\n",
            "KLD loss [7.248328499647067, 0.02332783528796128, 0.4522412380442054, 4.1310978552994495]\n",
            "KLD shift [3, 4, 5, 6]\n",
            "dropout_2 is using KLD method, original shift 3 KLD results 4\n",
            "dropout_2 max value: 8.428073 min value: -8.482128 dec bit 4\n",
            "KLD loss [7.248328499647067, 0.02332783528796128, 0.4522412380442054, 4.1310978552994495]\n",
            "KLD shift [3, 4, 5, 6]\n",
            "re_lu_4 is using KLD method, original shift 3 KLD results 4\n",
            "re_lu_4 max value: 8.428073 min value: -8.482128 dec bit 4\n",
            "dense_2 max value: 15.320797 min value: -14.273284 dec bit 3\n",
            "softmax_1 max value: 0.99999976 min value: 8.9616704e-13 dec bit 7\n",
            "shift list {'input_1': 7, 'conv2d_1': 6, 're_lu_1': 6, 'max_pooling2d_1': 6, 'conv2d_2': 5, 're_lu_2': 5, 'max_pooling2d_2': 5, 'conv2d_3': 4, 're_lu_3': 4, 'dropout_1': 4, 'max_pooling2d_3': 4, 'flatten_1': 4, 'dense_1': 3, 'dropout_2': 4, 're_lu_4': 4, 'dense_2': 3, 'softmax_1': 7}\n",
            "weights for layer conv2d_1\n",
            "  weight: conv2d_1/kernel:0\n",
            "  original shape:  (3, 3, 1, 12)\n",
            "  dec bit 8\n",
            "  reshape to: (12, 3, 3, 1)\n",
            "  bias:  conv2d_1/bias:0\n",
            "  original shape:  (12,)\n",
            "  dec bit 11\n",
            "  reshape to: (12,)\n",
            "weights for layer conv2d_2\n",
            "  weight: conv2d_2/kernel:0\n",
            "  original shape:  (3, 3, 12, 24)\n",
            "  dec bit 8\n",
            "  reshape to: (24, 3, 3, 12)\n",
            "  bias:  conv2d_2/bias:0\n",
            "  original shape:  (24,)\n",
            "  dec bit 10\n",
            "  reshape to: (24,)\n",
            "weights for layer conv2d_3\n",
            "  weight: conv2d_3/kernel:0\n",
            "  original shape:  (3, 3, 24, 48)\n",
            "  dec bit 8\n",
            "  reshape to: (48, 3, 3, 24)\n",
            "  bias:  conv2d_3/bias:0\n",
            "  original shape:  (48,)\n",
            "  dec bit 10\n",
            "  reshape to: (48,)\n",
            "weights for layer dense_1\n",
            "  weight: dense_1/kernel:0\n",
            "  original shape:  (768, 96)\n",
            "  dec bit 9\n",
            "  reshape to: (96, 768)\n",
            "  bias:  dense_1/bias:0\n",
            "  original shape:  (96,)\n",
            "  dec bit 11\n",
            "  reshape to: (96,)\n",
            "weights for layer dense_2\n",
            "  weight: dense_2/kernel:0\n",
            "  original shape:  (96, 10)\n",
            "  dec bit 8\n",
            "  reshape to: (10, 96)\n",
            "  bias:  dense_2/bias:0\n",
            "  original shape:  (10,)\n",
            "  dec bit 11\n",
            "  reshape to: (10,)\n",
            "<Figure size 640x480 with 1 Axes>\n"
          ],
          "name": "stdout"
        }
      ]
    }
  ]
}